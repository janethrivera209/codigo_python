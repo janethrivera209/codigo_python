{
 "cells": [
  {
   "cell_type": "code",
   "execution_count": 5,
   "id": "d2226620",
   "metadata": {},
   "outputs": [
    {
     "name": "stdout",
     "output_type": "stream",
     "text": [
      "Requirement already satisfied: python-tsp in c:\\users\\janet\\anaconda3\\lib\\site-packages (0.5.0)\n",
      "Requirement already satisfied: numpy<3.0.0,>=2.0.0 in c:\\users\\janet\\anaconda3\\lib\\site-packages (from python-tsp) (2.1.3)\n",
      "Requirement already satisfied: requests<3.0.0,>=2.28.0 in c:\\users\\janet\\anaconda3\\lib\\site-packages (from python-tsp) (2.31.0)\n",
      "Requirement already satisfied: tsplib95<0.8.0,>=0.7.1 in c:\\users\\janet\\anaconda3\\lib\\site-packages (from python-tsp) (0.7.1)\n",
      "Requirement already satisfied: charset-normalizer<4,>=2 in c:\\users\\janet\\anaconda3\\lib\\site-packages (from requests<3.0.0,>=2.28.0->python-tsp) (2.0.4)\n",
      "Requirement already satisfied: idna<4,>=2.5 in c:\\users\\janet\\anaconda3\\lib\\site-packages (from requests<3.0.0,>=2.28.0->python-tsp) (3.4)\n",
      "Requirement already satisfied: urllib3<3,>=1.21.1 in c:\\users\\janet\\anaconda3\\lib\\site-packages (from requests<3.0.0,>=2.28.0->python-tsp) (1.26.16)\n",
      "Requirement already satisfied: certifi>=2017.4.17 in c:\\users\\janet\\anaconda3\\lib\\site-packages (from requests<3.0.0,>=2.28.0->python-tsp) (2023.7.22)\n",
      "Requirement already satisfied: Click>=6.0 in c:\\users\\janet\\anaconda3\\lib\\site-packages (from tsplib95<0.8.0,>=0.7.1->python-tsp) (8.0.4)\n",
      "Requirement already satisfied: Deprecated~=1.2.9 in c:\\users\\janet\\anaconda3\\lib\\site-packages (from tsplib95<0.8.0,>=0.7.1->python-tsp) (1.2.14)\n",
      "Requirement already satisfied: networkx~=2.1 in c:\\users\\janet\\anaconda3\\lib\\site-packages (from tsplib95<0.8.0,>=0.7.1->python-tsp) (2.8.8)\n",
      "Requirement already satisfied: tabulate~=0.8.7 in c:\\users\\janet\\anaconda3\\lib\\site-packages (from tsplib95<0.8.0,>=0.7.1->python-tsp) (0.8.10)\n",
      "Requirement already satisfied: colorama in c:\\users\\janet\\anaconda3\\lib\\site-packages (from Click>=6.0->tsplib95<0.8.0,>=0.7.1->python-tsp) (0.4.6)\n",
      "Requirement already satisfied: wrapt<2,>=1.10 in c:\\users\\janet\\anaconda3\\lib\\site-packages (from Deprecated~=1.2.9->tsplib95<0.8.0,>=0.7.1->python-tsp) (1.14.1)\n"
     ]
    }
   ],
   "source": [
    "!pip install python-tsp"
   ]
  },
  {
   "cell_type": "code",
   "execution_count": 6,
   "id": "0053e5b3",
   "metadata": {},
   "outputs": [
    {
     "name": "stdout",
     "output_type": "stream",
     "text": [
      "Requirement already satisfied: pulp in c:\\users\\janet\\anaconda3\\lib\\site-packages (2.9.0)\n"
     ]
    }
   ],
   "source": [
    "!pip install pulp"
   ]
  },
  {
   "cell_type": "code",
   "execution_count": 7,
   "id": "3bf91615",
   "metadata": {},
   "outputs": [
    {
     "name": "stdout",
     "output_type": "stream",
     "text": [
      "Requirement already satisfied: numpy in c:\\users\\janet\\anaconda3\\lib\\site-packages (2.1.3)\n"
     ]
    }
   ],
   "source": [
    "!pip install numpy"
   ]
  },
  {
   "cell_type": "code",
   "execution_count": 8,
   "id": "f7d12a57",
   "metadata": {},
   "outputs": [],
   "source": [
    "import numpy as np \n",
    "from python_tsp.exact import solve_tsp_dynamic_programming"
   ]
  },
  {
   "cell_type": "code",
   "execution_count": 9,
   "id": "bbcf7242",
   "metadata": {},
   "outputs": [],
   "source": [
    "distancia_matrix = np.array ([\n",
    "    #\n",
    "    [0,13,23,46,17,14,19],\n",
    "    [26,0,29,34,38,40,45],\n",
    "    [25,34,0,18,25,27,41],\n",
    "    [31,30,35,0,36,37,38],\n",
    "    [23,21,23,23,0,22,27],\n",
    "    [31,33,34,33,37,0,39],\n",
    "    [30,34,37,24,40,50,0],\n",
    "])"
   ]
  },
  {
   "cell_type": "code",
   "execution_count": 10,
   "id": "0a450ac7",
   "metadata": {},
   "outputs": [],
   "source": [
    "ruta,distancia = solve_tsp_dynamic_programming(distancia_matrix)\n",
    "ruta = np.array(ruta)+1"
   ]
  },
  {
   "cell_type": "code",
   "execution_count": 11,
   "id": "1aa57958",
   "metadata": {},
   "outputs": [
    {
     "name": "stdout",
     "output_type": "stream",
     "text": [
      "la ruta mas corta es---> [1 6 3 5 7 4 2] la distancia es ---> 180\n"
     ]
    }
   ],
   "source": [
    "print(\"la ruta mas corta es--->\",ruta, \"la distancia es --->\",distancia)"
   ]
  },
  {
   "cell_type": "code",
   "execution_count": null,
   "id": "0810d5b9",
   "metadata": {},
   "outputs": [],
   "source": []
  }
 ],
 "metadata": {
  "kernelspec": {
   "display_name": "Python 3 (ipykernel)",
   "language": "python",
   "name": "python3"
  },
  "language_info": {
   "codemirror_mode": {
    "name": "ipython",
    "version": 3
   },
   "file_extension": ".py",
   "mimetype": "text/x-python",
   "name": "python",
   "nbconvert_exporter": "python",
   "pygments_lexer": "ipython3",
   "version": "3.11.5"
  }
 },
 "nbformat": 4,
 "nbformat_minor": 5
}
